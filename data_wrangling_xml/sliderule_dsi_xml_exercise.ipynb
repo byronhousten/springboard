{
 "cells": [
  {
   "cell_type": "markdown",
   "metadata": {},
   "source": [
    "# XML example and exercise\n",
    "****\n",
    "+ study examples of accessing nodes in XML tree structure  \n",
    "+ work on exercise to be completed and submitted\n",
    "****\n",
    "+ reference: https://docs.python.org/2.7/library/xml.etree.elementtree.html\n",
    "+ data source: http://www.dbis.informatik.uni-goettingen.de/Mondial\n",
    "****"
   ]
  },
  {
   "cell_type": "code",
   "execution_count": 79,
   "metadata": {
    "collapsed": true
   },
   "outputs": [],
   "source": [
    "from xml.etree import ElementTree as ET\n",
    "import pandas as pd\n",
    "import numpy as np"
   ]
  },
  {
   "cell_type": "markdown",
   "metadata": {},
   "source": [
    "## XML example\n",
    "\n",
    "+ for details about tree traversal and iterators, see https://docs.python.org/2.7/library/xml.etree.elementtree.html"
   ]
  },
  {
   "cell_type": "code",
   "execution_count": 2,
   "metadata": {
    "collapsed": true
   },
   "outputs": [],
   "source": [
    "document_tree = ET.parse( './data/mondial_database_less.xml' )"
   ]
  },
  {
   "cell_type": "code",
   "execution_count": 4,
   "metadata": {
    "collapsed": false
   },
   "outputs": [
    {
     "name": "stdout",
     "output_type": "stream",
     "text": [
      "Albania\n",
      "Greece\n",
      "Macedonia\n",
      "Serbia\n",
      "Montenegro\n",
      "Kosovo\n",
      "Andorra\n"
     ]
    }
   ],
   "source": [
    "# print names of all countries\n",
    "for child in document_tree.getroot():\n",
    "    print(child.find('name').text)"
   ]
  },
  {
   "cell_type": "code",
   "execution_count": 6,
   "metadata": {
    "collapsed": false
   },
   "outputs": [
    {
     "name": "stdout",
     "output_type": "stream",
     "text": [
      "* Albania:\n",
      "Tirana, Shkodër, Durrës, Vlorë, Elbasan, Korçë\n",
      "* Greece:\n",
      "Komotini, Kavala, Athina, Peiraias, Peristeri, Acharnes, Patra, Kozani, Kerkyra, Ioannina, Thessaloniki, Iraklio, Chania, Ermoupoli, Rhodes, Tripoli, Lamia, Chalkida, Larissa, Volos, Mytilini, Karyes\n",
      "* Macedonia:\n",
      "Skopje, Kumanovo\n",
      "* Serbia:\n",
      "Beograd, Novi Sad, Niš\n",
      "* Montenegro:\n",
      "Podgorica\n",
      "* Kosovo:\n",
      "Prishtine\n",
      "* Andorra:\n",
      "Andorra la Vella\n"
     ]
    }
   ],
   "source": [
    "# print names of all countries and their cities\n",
    "for element in document_tree.iterfind('country'):\n",
    "    print('* ' + element.find('name').text + ':')\n",
    "    capitals_string = ''\n",
    "    for subelement in element.getiterator('city'):\n",
    "        capitals_string += subelement.find('name').text + ', '\n",
    "    print(capitals_string[:-2])"
   ]
  },
  {
   "cell_type": "markdown",
   "metadata": {},
   "source": [
    "****\n",
    "## XML exercise\n",
    "\n",
    "Using data in 'data/mondial_database.xml', the examples above, and refering to https://docs.python.org/2.7/library/xml.etree.elementtree.html, find\n",
    "\n",
    "1. 10 countries with the lowest infant mortality rates\n",
    "2. 10 cities with the largest population\n",
    "3. 10 ethnic groups with the largest overall populations (sum of best/latest estimates over all countries)\n",
    "4. name and country of a) longest river, b) largest lake and c) airport at highest elevation"
   ]
  },
  {
   "cell_type": "code",
   "execution_count": 7,
   "metadata": {
    "collapsed": true
   },
   "outputs": [],
   "source": [
    "document = ET.parse( './data/mondial_database.xml' )"
   ]
  },
  {
   "cell_type": "code",
   "execution_count": 129,
   "metadata": {
    "collapsed": false
   },
   "outputs": [
    {
     "data": {
      "text/html": [
       "<div>\n",
       "<table border=\"1\" class=\"dataframe\">\n",
       "  <thead>\n",
       "    <tr style=\"text-align: right;\">\n",
       "      <th></th>\n",
       "      <th>infant_mortality_rate</th>\n",
       "    </tr>\n",
       "  </thead>\n",
       "  <tbody>\n",
       "    <tr>\n",
       "      <th>Monaco</th>\n",
       "      <td>0.0181</td>\n",
       "    </tr>\n",
       "    <tr>\n",
       "      <th>Japan</th>\n",
       "      <td>0.0213</td>\n",
       "    </tr>\n",
       "    <tr>\n",
       "      <th>Bermuda</th>\n",
       "      <td>0.0248</td>\n",
       "    </tr>\n",
       "    <tr>\n",
       "      <th>Norway</th>\n",
       "      <td>0.0248</td>\n",
       "    </tr>\n",
       "    <tr>\n",
       "      <th>Singapore</th>\n",
       "      <td>0.0253</td>\n",
       "    </tr>\n",
       "    <tr>\n",
       "      <th>Sweden</th>\n",
       "      <td>0.0260</td>\n",
       "    </tr>\n",
       "    <tr>\n",
       "      <th>Czech Republic</th>\n",
       "      <td>0.0263</td>\n",
       "    </tr>\n",
       "    <tr>\n",
       "      <th>Hong Kong</th>\n",
       "      <td>0.0273</td>\n",
       "    </tr>\n",
       "    <tr>\n",
       "      <th>Macao</th>\n",
       "      <td>0.0313</td>\n",
       "    </tr>\n",
       "    <tr>\n",
       "      <th>Iceland</th>\n",
       "      <td>0.0315</td>\n",
       "    </tr>\n",
       "  </tbody>\n",
       "</table>\n",
       "</div>"
      ],
      "text/plain": [
       "                infant_mortality_rate\n",
       "Monaco                         0.0181\n",
       "Japan                          0.0213\n",
       "Bermuda                        0.0248\n",
       "Norway                         0.0248\n",
       "Singapore                      0.0253\n",
       "Sweden                         0.0260\n",
       "Czech Republic                 0.0263\n",
       "Hong Kong                      0.0273\n",
       "Macao                          0.0313\n",
       "Iceland                        0.0315"
      ]
     },
     "execution_count": 129,
     "metadata": {},
     "output_type": "execute_result"
    }
   ],
   "source": [
    "inf_mor_dict = {}\n",
    "\n",
    "for country in root.iter('country'):\n",
    "    name = country.find('name').text\n",
    "    \n",
    "    try:\n",
    "        inf_mor = float(country.find('infant_mortality').text)/100\n",
    "    except:\n",
    "        inf_mor = np.nan\n",
    "        \n",
    "    inf_mor_dict[name] = inf_mor\n",
    "    \n",
    "inf_mor_df = pd.DataFrame.from_dict(inf_mor_dict, orient='index')\n",
    "inf_mor_df.columns = ['infant_mortality_rate']\n",
    "inf_mor_df[inf_mor_df.infant_mortality_rate.notnull()].sort_values(by='infant_mortality_rate').head(10)"
   ]
  },
  {
   "cell_type": "code",
   "execution_count": 130,
   "metadata": {
    "collapsed": false
   },
   "outputs": [
    {
     "data": {
      "text/html": [
       "<div>\n",
       "<table border=\"1\" class=\"dataframe\">\n",
       "  <thead>\n",
       "    <tr style=\"text-align: right;\">\n",
       "      <th></th>\n",
       "      <th>year</th>\n",
       "      <th>population</th>\n",
       "    </tr>\n",
       "  </thead>\n",
       "  <tbody>\n",
       "    <tr>\n",
       "      <th>Shanghai</th>\n",
       "      <td>2010</td>\n",
       "      <td>22315474</td>\n",
       "    </tr>\n",
       "    <tr>\n",
       "      <th>Istanbul</th>\n",
       "      <td>2012</td>\n",
       "      <td>13710512</td>\n",
       "    </tr>\n",
       "    <tr>\n",
       "      <th>Mumbai</th>\n",
       "      <td>2011</td>\n",
       "      <td>12442373</td>\n",
       "    </tr>\n",
       "    <tr>\n",
       "      <th>Moskva</th>\n",
       "      <td>2013</td>\n",
       "      <td>11979529</td>\n",
       "    </tr>\n",
       "    <tr>\n",
       "      <th>Beijing</th>\n",
       "      <td>2010</td>\n",
       "      <td>11716620</td>\n",
       "    </tr>\n",
       "    <tr>\n",
       "      <th>São Paulo</th>\n",
       "      <td>2010</td>\n",
       "      <td>11152344</td>\n",
       "    </tr>\n",
       "    <tr>\n",
       "      <th>Tianjin</th>\n",
       "      <td>2010</td>\n",
       "      <td>11090314</td>\n",
       "    </tr>\n",
       "    <tr>\n",
       "      <th>Guangzhou</th>\n",
       "      <td>2010</td>\n",
       "      <td>11071424</td>\n",
       "    </tr>\n",
       "    <tr>\n",
       "      <th>Delhi</th>\n",
       "      <td>2011</td>\n",
       "      <td>11034555</td>\n",
       "    </tr>\n",
       "    <tr>\n",
       "      <th>Shenzhen</th>\n",
       "      <td>2010</td>\n",
       "      <td>10358381</td>\n",
       "    </tr>\n",
       "  </tbody>\n",
       "</table>\n",
       "</div>"
      ],
      "text/plain": [
       "           year  population\n",
       "Shanghai   2010    22315474\n",
       "Istanbul   2012    13710512\n",
       "Mumbai     2011    12442373\n",
       "Moskva     2013    11979529\n",
       "Beijing    2010    11716620\n",
       "São Paulo  2010    11152344\n",
       "Tianjin    2010    11090314\n",
       "Guangzhou  2010    11071424\n",
       "Delhi      2011    11034555\n",
       "Shenzhen   2010    10358381"
      ]
     },
     "execution_count": 130,
     "metadata": {},
     "output_type": "execute_result"
    }
   ],
   "source": [
    "pop_dict = {}\n",
    "\n",
    "for city in root.iter('city'):\n",
    "    name = city.find('name').text\n",
    "    \n",
    "    for pop in city.findall('population'):\n",
    "        year = 0\n",
    "        population = 0\n",
    "        if int(pop.get('year')) > year:\n",
    "            year = int(pop.get('year'))\n",
    "            population = int(pop.text)\n",
    "            \n",
    "    pop_dict[name] = (year, population)\n",
    "    \n",
    "pop_df = pd.DataFrame.from_dict(pop_dict, orient='index')\n",
    "pop_df.columns = ['year', 'population']\n",
    "pop_df.sort_values(by='population',ascending=False).head(10)"
   ]
  },
  {
   "cell_type": "code",
   "execution_count": 139,
   "metadata": {
    "collapsed": false
   },
   "outputs": [
    {
     "data": {
      "text/html": [
       "<div>\n",
       "<table border=\"1\" class=\"dataframe\">\n",
       "  <thead>\n",
       "    <tr style=\"text-align: right;\">\n",
       "      <th></th>\n",
       "      <th>population</th>\n",
       "    </tr>\n",
       "  </thead>\n",
       "  <tbody>\n",
       "    <tr>\n",
       "      <th>Han Chinese</th>\n",
       "      <td>1245058800</td>\n",
       "    </tr>\n",
       "    <tr>\n",
       "      <th>Indo-Aryan</th>\n",
       "      <td>871815583</td>\n",
       "    </tr>\n",
       "    <tr>\n",
       "      <th>European</th>\n",
       "      <td>494872201</td>\n",
       "    </tr>\n",
       "    <tr>\n",
       "      <th>African</th>\n",
       "      <td>318325104</td>\n",
       "    </tr>\n",
       "    <tr>\n",
       "      <th>Dravidian</th>\n",
       "      <td>302713744</td>\n",
       "    </tr>\n",
       "    <tr>\n",
       "      <th>Mestizo</th>\n",
       "      <td>157734349</td>\n",
       "    </tr>\n",
       "    <tr>\n",
       "      <th>Bengali</th>\n",
       "      <td>146776916</td>\n",
       "    </tr>\n",
       "    <tr>\n",
       "      <th>Russian</th>\n",
       "      <td>131856989</td>\n",
       "    </tr>\n",
       "    <tr>\n",
       "      <th>Japanese</th>\n",
       "      <td>126534212</td>\n",
       "    </tr>\n",
       "    <tr>\n",
       "      <th>Malay</th>\n",
       "      <td>121993548</td>\n",
       "    </tr>\n",
       "  </tbody>\n",
       "</table>\n",
       "</div>"
      ],
      "text/plain": [
       "             population\n",
       "Han Chinese  1245058800\n",
       "Indo-Aryan    871815583\n",
       "European      494872201\n",
       "African       318325104\n",
       "Dravidian     302713744\n",
       "Mestizo       157734349\n",
       "Bengali       146776916\n",
       "Russian       131856989\n",
       "Japanese      126534212\n",
       "Malay         121993548"
      ]
     },
     "execution_count": 139,
     "metadata": {},
     "output_type": "execute_result"
    }
   ],
   "source": [
    "ethnic_dict = {}\n",
    "\n",
    "for country in root.iter('country'):\n",
    "    \n",
    "    # get latest population for that country\n",
    "    for pop in country.findall('population'):\n",
    "        year = 0\n",
    "        population = 0\n",
    "        if int(pop.get('year')) > year:\n",
    "            year = int(pop.get('year'))\n",
    "            population = int(pop.text)\n",
    "            \n",
    "    # get ethnic percentages, calculate population, and add to dict\n",
    "    for ethnic in country.findall('ethnicgroup'):\n",
    "        ethnicgroup = ethnic.text\n",
    "        ethnicpercent = float(ethnic.get('percentage'))/100\n",
    "        \n",
    "        # calculating population and adding to dictionary\n",
    "        if ethnicgroup in ethnic_dict:\n",
    "            ethnic_dict[ethnicgroup] += int(ethnicpercent * population)\n",
    "        else:\n",
    "            ethnic_dict[ethnicgroup] = int(ethnicpercent * population)\n",
    "\n",
    "# creating data fame and output\n",
    "ethnic_df = pd.DataFrame.from_dict(ethnic_dict, orient='index')\n",
    "ethnic_df.columns = ['population']\n",
    "ethnic_df.sort_values('population',ascending=False).head(10)"
   ]
  },
  {
   "cell_type": "code",
   "execution_count": 161,
   "metadata": {
    "collapsed": false
   },
   "outputs": [],
   "source": [
    "country_dict = {}\n",
    "river_dict = {}\n",
    "lake_dict = {}\n",
    "airport_dict = {}\n",
    "\n",
    "for country in root.iter('country'):\n",
    "    countrycode = country.get('car_code')\n",
    "    countryname = country.find('name').text\n",
    "    country_dict[countrycode] = countryname\n",
    "    \n",
    "for river in root.iter('river'):\n",
    "    rivername = river.find('name').text\n",
    "    try:\n",
    "        length = int(river.find('length').text)\n",
    "    except:\n",
    "        length = np.nan\n",
    "    country = river.get('country')\n",
    "    country = country.split()\n",
    "    river_dict[rivername] = (length, country)\n",
    "\n",
    "for lake in root.iter('lake'):\n",
    "    name = lake.find('name').text\n",
    "    try:\n",
    "        area = float(lake.find('area').text)\n",
    "    except:\n",
    "        area = np.nan\n",
    "    country = lake.get('country')\n",
    "    country = country.split()\n",
    "    lake_dict[name] = (area, country)\n",
    "    \n",
    "for airport in root.iter('airport'):\n",
    "    name = airport.find('name').text\n",
    "    try:\n",
    "        elevation = int(airport.find('elevation').text)\n",
    "    except:\n",
    "        elevation = np.nan\n",
    "    country = airport.get('country')\n",
    "    airport_dict[name] = (elevation, country)"
   ]
  },
  {
   "cell_type": "code",
   "execution_count": 163,
   "metadata": {
    "collapsed": false
   },
   "outputs": [
    {
     "data": {
      "text/html": [
       "<div>\n",
       "<table border=\"1\" class=\"dataframe\">\n",
       "  <thead>\n",
       "    <tr style=\"text-align: right;\">\n",
       "      <th></th>\n",
       "      <th>length</th>\n",
       "      <th>country</th>\n",
       "    </tr>\n",
       "  </thead>\n",
       "  <tbody>\n",
       "    <tr>\n",
       "      <th>Amazonas</th>\n",
       "      <td>6448.0</td>\n",
       "      <td>[CO, BR, PE]</td>\n",
       "    </tr>\n",
       "  </tbody>\n",
       "</table>\n",
       "</div>"
      ],
      "text/plain": [
       "          length       country\n",
       "Amazonas  6448.0  [CO, BR, PE]"
      ]
     },
     "execution_count": 163,
     "metadata": {},
     "output_type": "execute_result"
    }
   ],
   "source": [
    "river_df = pd.DataFrame.from_dict(river_dict, orient='index')\n",
    "river_df.columns = ['length', 'country']\n",
    "river_df.sort_values('length', ascending=False).head(1)"
   ]
  },
  {
   "cell_type": "code",
   "execution_count": 164,
   "metadata": {
    "collapsed": false
   },
   "outputs": [
    {
     "data": {
      "text/html": [
       "<div>\n",
       "<table border=\"1\" class=\"dataframe\">\n",
       "  <thead>\n",
       "    <tr style=\"text-align: right;\">\n",
       "      <th></th>\n",
       "      <th>area</th>\n",
       "      <th>country</th>\n",
       "    </tr>\n",
       "  </thead>\n",
       "  <tbody>\n",
       "    <tr>\n",
       "      <th>Caspian Sea</th>\n",
       "      <td>386400.0</td>\n",
       "      <td>[R, AZ, KAZ, IR, TM]</td>\n",
       "    </tr>\n",
       "  </tbody>\n",
       "</table>\n",
       "</div>"
      ],
      "text/plain": [
       "                 area               country\n",
       "Caspian Sea  386400.0  [R, AZ, KAZ, IR, TM]"
      ]
     },
     "execution_count": 164,
     "metadata": {},
     "output_type": "execute_result"
    }
   ],
   "source": [
    "lake_df = pd.DataFrame.from_dict(lake_dict, orient='index')\n",
    "lake_df.columns = ['area', 'country']\n",
    "lake_df.sort_values('area', ascending=False).head(1)"
   ]
  },
  {
   "cell_type": "code",
   "execution_count": 165,
   "metadata": {
    "collapsed": false
   },
   "outputs": [
    {
     "data": {
      "text/html": [
       "<div>\n",
       "<table border=\"1\" class=\"dataframe\">\n",
       "  <thead>\n",
       "    <tr style=\"text-align: right;\">\n",
       "      <th></th>\n",
       "      <th>elevation</th>\n",
       "      <th>country</th>\n",
       "    </tr>\n",
       "  </thead>\n",
       "  <tbody>\n",
       "    <tr>\n",
       "      <th>El Alto Intl</th>\n",
       "      <td>4063.0</td>\n",
       "      <td>BOL</td>\n",
       "    </tr>\n",
       "  </tbody>\n",
       "</table>\n",
       "</div>"
      ],
      "text/plain": [
       "              elevation country\n",
       "El Alto Intl     4063.0     BOL"
      ]
     },
     "execution_count": 165,
     "metadata": {},
     "output_type": "execute_result"
    }
   ],
   "source": [
    "airport_df = pd.DataFrame.from_dict(airport_dict, orient='index')\n",
    "airport_df.columns = ['elevation', 'country']\n",
    "airport_df.sort_values('elevation', ascending=False).head(1)"
   ]
  }
 ],
 "metadata": {
  "anaconda-cloud": {},
  "kernelspec": {
   "display_name": "Python [conda root]",
   "language": "python",
   "name": "conda-root-py"
  },
  "language_info": {
   "codemirror_mode": {
    "name": "ipython",
    "version": 3
   },
   "file_extension": ".py",
   "mimetype": "text/x-python",
   "name": "python",
   "nbconvert_exporter": "python",
   "pygments_lexer": "ipython3",
   "version": "3.5.2"
  }
 },
 "nbformat": 4,
 "nbformat_minor": 0
}
