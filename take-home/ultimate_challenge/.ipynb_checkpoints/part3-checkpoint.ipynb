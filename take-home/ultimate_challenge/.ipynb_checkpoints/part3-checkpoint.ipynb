{
 "cells": [
  {
   "cell_type": "markdown",
   "metadata": {},
   "source": [
    "## Summary"
   ]
  },
  {
   "cell_type": "markdown",
   "metadata": {},
   "source": [
    "#### Data Cleaning\n",
    "\n",
    "Average rating by driver has 201 null values. Average rating of driver has 8122 null values. Phone has 396 null values.\n",
    "\n",
    "Average rating of driver null values can be replaced with the mean average rating of driver value. Reason behind this is because since we are looking for reasons behind user retention, a user can expect to get a driver of the average quality on any given ride.\n",
    "\n",
    "Average rating by driver null value rows can be dropped. These rows only account for 0.4% of the dataset.\n",
    "\n",
    "Phone null values are inconsequential. Phone is turned into a binary variable - is_iPhone - to denote whether the phone is an iPhone or not for logistic regression.\n",
    "\n",
    "#### Data Summary\n",
    "\n",
    "There are 18,804 active users and 31,196 inactive users."
   ]
  },
  {
   "cell_type": "code",
   "execution_count": 27,
   "metadata": {
    "collapsed": false
   },
   "outputs": [
    {
     "data": {
      "text/plain": [
       "0    31196\n",
       "1    18804\n",
       "Name: active_six, dtype: int64"
      ]
     },
     "execution_count": 27,
     "metadata": {},
     "output_type": "execute_result"
    }
   ],
   "source": [
    "df.active_six.value_counts()"
   ]
  },
  {
   "cell_type": "code",
   "execution_count": 25,
   "metadata": {
    "collapsed": false
   },
   "outputs": [
    {
     "data": {
      "image/png": "[encoded data removed]",
      "text/plain": [
       "<matplotlib.figure.Figure at 0x25727c3b0b8>"
      ]
     },
     "metadata": {},
     "output_type": "display_data"
    }
   ],
   "source": [
    "df.active_six.value_counts().plot(kind='bar')\n",
    "plt.xticks(range(2), ('Inactive', 'Active'))\n",
    "plt.ylabel(\"User Counts\")\n",
    "plt.title(\"Active vs. Inactive Users\")\n",
    "plt.show()"
   ]
  },
  {
   "cell_type": "code",
   "execution_count": null,
   "metadata": {
    "collapsed": true
   },
   "outputs": [],
   "source": []
  },
  {
   "cell_type": "code",
   "execution_count": null,
   "metadata": {
    "collapsed": true
   },
   "outputs": [],
   "source": []
  },
  {
   "cell_type": "code",
   "execution_count": null,
   "metadata": {
    "collapsed": true
   },
   "outputs": [],
   "source": []
  },
  {
   "cell_type": "code",
   "execution_count": null,
   "metadata": {
    "collapsed": true
   },
   "outputs": [],
   "source": []
  },
  {
   "cell_type": "code",
   "execution_count": 2,
   "metadata": {
    "collapsed": true
   },
   "outputs": [],
   "source": [
    "%matplotlib inline\n",
    "import json\n",
    "import matplotlib.pyplot as plt\n",
    "import numpy as np\n",
    "import pandas as pd\n",
    "import seaborn as sns"
   ]
  },
  {
   "cell_type": "code",
   "execution_count": 3,
   "metadata": {
    "collapsed": true
   },
   "outputs": [],
   "source": [
    "with open('ultimate_data_challenge.json') as f:\n",
    "    data = json.load(f)"
   ]
  },
  {
   "cell_type": "code",
   "execution_count": 4,
   "metadata": {
    "collapsed": false
   },
   "outputs": [
    {
     "data": {
      "text/plain": [
       "{'avg_dist': 3.67,\n",
       " 'avg_rating_by_driver': 5.0,\n",
       " 'avg_rating_of_driver': 4.7,\n",
       " 'avg_surge': 1.1,\n",
       " 'city': \"King's Landing\",\n",
       " 'last_trip_date': '2014-06-17',\n",
       " 'phone': 'iPhone',\n",
       " 'signup_date': '2014-01-25',\n",
       " 'surge_pct': 15.4,\n",
       " 'trips_in_first_30_days': 4,\n",
       " 'ultimate_black_user': True,\n",
       " 'weekday_pct': 46.2}"
      ]
     },
     "execution_count": 4,
     "metadata": {},
     "output_type": "execute_result"
    }
   ],
   "source": [
    "data[0]"
   ]
  },
  {
   "cell_type": "code",
   "execution_count": 5,
   "metadata": {
    "collapsed": false
   },
   "outputs": [],
   "source": [
    "df = pd.DataFrame.from_dict(data)"
   ]
  },
  {
   "cell_type": "code",
   "execution_count": 6,
   "metadata": {
    "collapsed": false
   },
   "outputs": [],
   "source": [
    "df.last_trip_date = pd.to_datetime(df.last_trip_date, format='%Y-%m-%d')\n",
    "df.signup_date = pd.to_datetime(df.signup_date, format='%Y-%m-%d')"
   ]
  },
  {
   "cell_type": "code",
   "execution_count": 7,
   "metadata": {
    "collapsed": true
   },
   "outputs": [],
   "source": [
    "# converting categorical data to binary for logistic regression\n",
    "df['is_Astapor'] = np.where(df.city == 'Astapor', 1, 0)\n",
    "df['is_Kings'] = np.where(df.city == 'King\\'s Landing', 1, 0)\n",
    "df['is_iPhone'] = np.where(df.phone == 'iPhone', 1, 0)\n",
    "df['ultimate_black_user_binary'] = np.where(df.ultimate_black_user == True, 1, 0)"
   ]
  },
  {
   "cell_type": "code",
   "execution_count": 8,
   "metadata": {
    "collapsed": false
   },
   "outputs": [
    {
     "data": {
      "text/plain": [
       "avg_dist                         0\n",
       "avg_rating_by_driver           201\n",
       "avg_rating_of_driver          8122\n",
       "avg_surge                        0\n",
       "city                             0\n",
       "last_trip_date                   0\n",
       "phone                          396\n",
       "signup_date                      0\n",
       "surge_pct                        0\n",
       "trips_in_first_30_days           0\n",
       "ultimate_black_user              0\n",
       "weekday_pct                      0\n",
       "is_Astapor                       0\n",
       "is_Kings                         0\n",
       "is_iPhone                        0\n",
       "ultimate_black_user_binary       0\n",
       "dtype: int64"
      ]
     },
     "execution_count": 8,
     "metadata": {},
     "output_type": "execute_result"
    }
   ],
   "source": [
    "# need to process NaNs\n",
    "df.isnull().sum()"
   ]
  },
  {
   "cell_type": "code",
   "execution_count": 9,
   "metadata": {
    "collapsed": false
   },
   "outputs": [],
   "source": [
    "df.avg_rating_of_driver.fillna(df.avg_rating_of_driver.mean(skipna=True), inplace=True)"
   ]
  },
  {
   "cell_type": "code",
   "execution_count": 10,
   "metadata": {
    "collapsed": false
   },
   "outputs": [
    {
     "data": {
      "text/plain": [
       "avg_dist                        0\n",
       "avg_rating_by_driver          201\n",
       "avg_rating_of_driver            0\n",
       "avg_surge                       0\n",
       "city                            0\n",
       "last_trip_date                  0\n",
       "phone                         396\n",
       "signup_date                     0\n",
       "surge_pct                       0\n",
       "trips_in_first_30_days          0\n",
       "ultimate_black_user             0\n",
       "weekday_pct                     0\n",
       "is_Astapor                      0\n",
       "is_Kings                        0\n",
       "is_iPhone                       0\n",
       "ultimate_black_user_binary      0\n",
       "dtype: int64"
      ]
     },
     "execution_count": 10,
     "metadata": {},
     "output_type": "execute_result"
    }
   ],
   "source": [
    "df.isnull().sum()"
   ]
  },
  {
   "cell_type": "code",
   "execution_count": 11,
   "metadata": {
    "collapsed": true
   },
   "outputs": [],
   "source": [
    "df_mask = df[df.avg_rating_by_driver.notnull()]"
   ]
  },
  {
   "cell_type": "code",
   "execution_count": 12,
   "metadata": {
    "collapsed": false
   },
   "outputs": [
    {
     "data": {
      "text/html": [
       "<div>\n",
       "<table border=\"1\" class=\"dataframe\">\n",
       "  <thead>\n",
       "    <tr style=\"text-align: right;\">\n",
       "      <th></th>\n",
       "      <th>avg_dist</th>\n",
       "      <th>avg_rating_by_driver</th>\n",
       "      <th>avg_rating_of_driver</th>\n",
       "      <th>avg_surge</th>\n",
       "      <th>city</th>\n",
       "      <th>last_trip_date</th>\n",
       "      <th>phone</th>\n",
       "      <th>signup_date</th>\n",
       "      <th>surge_pct</th>\n",
       "      <th>trips_in_first_30_days</th>\n",
       "      <th>ultimate_black_user</th>\n",
       "      <th>weekday_pct</th>\n",
       "      <th>is_Astapor</th>\n",
       "      <th>is_Kings</th>\n",
       "      <th>is_iPhone</th>\n",
       "      <th>ultimate_black_user_binary</th>\n",
       "    </tr>\n",
       "  </thead>\n",
       "  <tbody>\n",
       "    <tr>\n",
       "      <th>0</th>\n",
       "      <td>3.67</td>\n",
       "      <td>5.0</td>\n",
       "      <td>4.7</td>\n",
       "      <td>1.10</td>\n",
       "      <td>King's Landing</td>\n",
       "      <td>2014-06-17</td>\n",
       "      <td>iPhone</td>\n",
       "      <td>2014-01-25</td>\n",
       "      <td>15.4</td>\n",
       "      <td>4</td>\n",
       "      <td>True</td>\n",
       "      <td>46.2</td>\n",
       "      <td>0</td>\n",
       "      <td>1</td>\n",
       "      <td>1</td>\n",
       "      <td>1</td>\n",
       "    </tr>\n",
       "    <tr>\n",
       "      <th>1</th>\n",
       "      <td>8.26</td>\n",
       "      <td>5.0</td>\n",
       "      <td>5.0</td>\n",
       "      <td>1.00</td>\n",
       "      <td>Astapor</td>\n",
       "      <td>2014-05-05</td>\n",
       "      <td>Android</td>\n",
       "      <td>2014-01-29</td>\n",
       "      <td>0.0</td>\n",
       "      <td>0</td>\n",
       "      <td>False</td>\n",
       "      <td>50.0</td>\n",
       "      <td>1</td>\n",
       "      <td>0</td>\n",
       "      <td>0</td>\n",
       "      <td>0</td>\n",
       "    </tr>\n",
       "    <tr>\n",
       "      <th>2</th>\n",
       "      <td>0.77</td>\n",
       "      <td>5.0</td>\n",
       "      <td>4.3</td>\n",
       "      <td>1.00</td>\n",
       "      <td>Astapor</td>\n",
       "      <td>2014-01-07</td>\n",
       "      <td>iPhone</td>\n",
       "      <td>2014-01-06</td>\n",
       "      <td>0.0</td>\n",
       "      <td>3</td>\n",
       "      <td>False</td>\n",
       "      <td>100.0</td>\n",
       "      <td>1</td>\n",
       "      <td>0</td>\n",
       "      <td>1</td>\n",
       "      <td>0</td>\n",
       "    </tr>\n",
       "    <tr>\n",
       "      <th>3</th>\n",
       "      <td>2.36</td>\n",
       "      <td>4.9</td>\n",
       "      <td>4.6</td>\n",
       "      <td>1.14</td>\n",
       "      <td>King's Landing</td>\n",
       "      <td>2014-06-29</td>\n",
       "      <td>iPhone</td>\n",
       "      <td>2014-01-10</td>\n",
       "      <td>20.0</td>\n",
       "      <td>9</td>\n",
       "      <td>True</td>\n",
       "      <td>80.0</td>\n",
       "      <td>0</td>\n",
       "      <td>1</td>\n",
       "      <td>1</td>\n",
       "      <td>1</td>\n",
       "    </tr>\n",
       "    <tr>\n",
       "      <th>4</th>\n",
       "      <td>3.13</td>\n",
       "      <td>4.9</td>\n",
       "      <td>4.4</td>\n",
       "      <td>1.19</td>\n",
       "      <td>Winterfell</td>\n",
       "      <td>2014-03-15</td>\n",
       "      <td>Android</td>\n",
       "      <td>2014-01-27</td>\n",
       "      <td>11.8</td>\n",
       "      <td>14</td>\n",
       "      <td>False</td>\n",
       "      <td>82.4</td>\n",
       "      <td>0</td>\n",
       "      <td>0</td>\n",
       "      <td>0</td>\n",
       "      <td>0</td>\n",
       "    </tr>\n",
       "  </tbody>\n",
       "</table>\n",
       "</div>"
      ],
      "text/plain": [
       "   avg_dist  avg_rating_by_driver  avg_rating_of_driver  avg_surge  \\\n",
       "0      3.67                   5.0                   4.7       1.10   \n",
       "1      8.26                   5.0                   5.0       1.00   \n",
       "2      0.77                   5.0                   4.3       1.00   \n",
       "3      2.36                   4.9                   4.6       1.14   \n",
       "4      3.13                   4.9                   4.4       1.19   \n",
       "\n",
       "             city last_trip_date    phone signup_date  surge_pct  \\\n",
       "0  King's Landing     2014-06-17   iPhone  2014-01-25       15.4   \n",
       "1         Astapor     2014-05-05  Android  2014-01-29        0.0   \n",
       "2         Astapor     2014-01-07   iPhone  2014-01-06        0.0   \n",
       "3  King's Landing     2014-06-29   iPhone  2014-01-10       20.0   \n",
       "4      Winterfell     2014-03-15  Android  2014-01-27       11.8   \n",
       "\n",
       "   trips_in_first_30_days ultimate_black_user  weekday_pct  is_Astapor  \\\n",
       "0                       4                True         46.2           0   \n",
       "1                       0               False         50.0           1   \n",
       "2                       3               False        100.0           1   \n",
       "3                       9                True         80.0           0   \n",
       "4                      14               False         82.4           0   \n",
       "\n",
       "   is_Kings  is_iPhone  ultimate_black_user_binary  \n",
       "0         1          1                           1  \n",
       "1         0          0                           0  \n",
       "2         0          1                           0  \n",
       "3         1          1                           1  \n",
       "4         0          0                           0  "
      ]
     },
     "execution_count": 12,
     "metadata": {},
     "output_type": "execute_result"
    }
   ],
   "source": [
    "df.head()"
   ]
  },
  {
   "cell_type": "code",
   "execution_count": 35,
   "metadata": {
    "collapsed": false
   },
   "outputs": [
    {
     "data": {
      "text/html": [
       "<div>\n",
       "<table border=\"1\" class=\"dataframe\">\n",
       "  <thead>\n",
       "    <tr style=\"text-align: right;\">\n",
       "      <th></th>\n",
       "      <th>avg_dist</th>\n",
       "      <th>avg_rating_by_driver</th>\n",
       "      <th>avg_rating_of_driver</th>\n",
       "      <th>avg_surge</th>\n",
       "      <th>city</th>\n",
       "      <th>last_trip_date</th>\n",
       "      <th>phone</th>\n",
       "      <th>signup_date</th>\n",
       "      <th>surge_pct</th>\n",
       "      <th>trips_in_first_30_days</th>\n",
       "      <th>ultimate_black_user</th>\n",
       "      <th>weekday_pct</th>\n",
       "      <th>active_six</th>\n",
       "      <th>is_Astapor</th>\n",
       "      <th>is_Kings</th>\n",
       "      <th>is_iPhone</th>\n",
       "      <th>ultimate_black_user_binary</th>\n",
       "    </tr>\n",
       "  </thead>\n",
       "  <tbody>\n",
       "    <tr>\n",
       "      <th>count</th>\n",
       "      <td>49799.000000</td>\n",
       "      <td>49799.000000</td>\n",
       "      <td>49799.000000</td>\n",
       "      <td>49799.000000</td>\n",
       "      <td>49799</td>\n",
       "      <td>49799</td>\n",
       "      <td>49406</td>\n",
       "      <td>49799</td>\n",
       "      <td>49799.000000</td>\n",
       "      <td>49799.000000</td>\n",
       "      <td>49799</td>\n",
       "      <td>49799.000000</td>\n",
       "      <td>49799.000000</td>\n",
       "      <td>49799.000000</td>\n",
       "      <td>49799.000000</td>\n",
       "      <td>49799.000000</td>\n",
       "      <td>49799.000000</td>\n",
       "    </tr>\n",
       "    <tr>\n",
       "      <th>unique</th>\n",
       "      <td>NaN</td>\n",
       "      <td>NaN</td>\n",
       "      <td>NaN</td>\n",
       "      <td>NaN</td>\n",
       "      <td>3</td>\n",
       "      <td>182</td>\n",
       "      <td>2</td>\n",
       "      <td>31</td>\n",
       "      <td>NaN</td>\n",
       "      <td>NaN</td>\n",
       "      <td>2</td>\n",
       "      <td>NaN</td>\n",
       "      <td>NaN</td>\n",
       "      <td>NaN</td>\n",
       "      <td>NaN</td>\n",
       "      <td>NaN</td>\n",
       "      <td>NaN</td>\n",
       "    </tr>\n",
       "    <tr>\n",
       "      <th>top</th>\n",
       "      <td>NaN</td>\n",
       "      <td>NaN</td>\n",
       "      <td>NaN</td>\n",
       "      <td>NaN</td>\n",
       "      <td>Winterfell</td>\n",
       "      <td>2014-06-29 00:00:00</td>\n",
       "      <td>iPhone</td>\n",
       "      <td>2014-01-18 00:00:00</td>\n",
       "      <td>NaN</td>\n",
       "      <td>NaN</td>\n",
       "      <td>False</td>\n",
       "      <td>NaN</td>\n",
       "      <td>NaN</td>\n",
       "      <td>NaN</td>\n",
       "      <td>NaN</td>\n",
       "      <td>NaN</td>\n",
       "      <td>NaN</td>\n",
       "    </tr>\n",
       "    <tr>\n",
       "      <th>freq</th>\n",
       "      <td>NaN</td>\n",
       "      <td>NaN</td>\n",
       "      <td>NaN</td>\n",
       "      <td>NaN</td>\n",
       "      <td>23233</td>\n",
       "      <td>2033</td>\n",
       "      <td>34446</td>\n",
       "      <td>2936</td>\n",
       "      <td>NaN</td>\n",
       "      <td>NaN</td>\n",
       "      <td>30979</td>\n",
       "      <td>NaN</td>\n",
       "      <td>NaN</td>\n",
       "      <td>NaN</td>\n",
       "      <td>NaN</td>\n",
       "      <td>NaN</td>\n",
       "      <td>NaN</td>\n",
       "    </tr>\n",
       "    <tr>\n",
       "      <th>first</th>\n",
       "      <td>NaN</td>\n",
       "      <td>NaN</td>\n",
       "      <td>NaN</td>\n",
       "      <td>NaN</td>\n",
       "      <td>NaN</td>\n",
       "      <td>2014-01-01 00:00:00</td>\n",
       "      <td>NaN</td>\n",
       "      <td>2014-01-01 00:00:00</td>\n",
       "      <td>NaN</td>\n",
       "      <td>NaN</td>\n",
       "      <td>NaN</td>\n",
       "      <td>NaN</td>\n",
       "      <td>NaN</td>\n",
       "      <td>NaN</td>\n",
       "      <td>NaN</td>\n",
       "      <td>NaN</td>\n",
       "      <td>NaN</td>\n",
       "    </tr>\n",
       "    <tr>\n",
       "      <th>last</th>\n",
       "      <td>NaN</td>\n",
       "      <td>NaN</td>\n",
       "      <td>NaN</td>\n",
       "      <td>NaN</td>\n",
       "      <td>NaN</td>\n",
       "      <td>2014-07-01 00:00:00</td>\n",
       "      <td>NaN</td>\n",
       "      <td>2014-01-31 00:00:00</td>\n",
       "      <td>NaN</td>\n",
       "      <td>NaN</td>\n",
       "      <td>NaN</td>\n",
       "      <td>NaN</td>\n",
       "      <td>NaN</td>\n",
       "      <td>NaN</td>\n",
       "      <td>NaN</td>\n",
       "      <td>NaN</td>\n",
       "      <td>NaN</td>\n",
       "    </tr>\n",
       "    <tr>\n",
       "      <th>mean</th>\n",
       "      <td>5.795332</td>\n",
       "      <td>4.778158</td>\n",
       "      <td>4.601762</td>\n",
       "      <td>1.074396</td>\n",
       "      <td>NaN</td>\n",
       "      <td>NaN</td>\n",
       "      <td>NaN</td>\n",
       "      <td>NaN</td>\n",
       "      <td>8.821665</td>\n",
       "      <td>2.285166</td>\n",
       "      <td>NaN</td>\n",
       "      <td>60.957132</td>\n",
       "      <td>0.376875</td>\n",
       "      <td>0.330850</td>\n",
       "      <td>0.202615</td>\n",
       "      <td>0.691701</td>\n",
       "      <td>0.377919</td>\n",
       "    </tr>\n",
       "    <tr>\n",
       "      <th>std</th>\n",
       "      <td>5.665794</td>\n",
       "      <td>0.446652</td>\n",
       "      <td>0.564056</td>\n",
       "      <td>0.220694</td>\n",
       "      <td>NaN</td>\n",
       "      <td>NaN</td>\n",
       "      <td>NaN</td>\n",
       "      <td>NaN</td>\n",
       "      <td>19.860920</td>\n",
       "      <td>3.798589</td>\n",
       "      <td>NaN</td>\n",
       "      <td>37.017558</td>\n",
       "      <td>0.484571</td>\n",
       "      <td>0.470517</td>\n",
       "      <td>0.401907</td>\n",
       "      <td>0.461797</td>\n",
       "      <td>0.484876</td>\n",
       "    </tr>\n",
       "    <tr>\n",
       "      <th>min</th>\n",
       "      <td>0.000000</td>\n",
       "      <td>1.000000</td>\n",
       "      <td>1.000000</td>\n",
       "      <td>1.000000</td>\n",
       "      <td>NaN</td>\n",
       "      <td>NaN</td>\n",
       "      <td>NaN</td>\n",
       "      <td>NaN</td>\n",
       "      <td>0.000000</td>\n",
       "      <td>0.000000</td>\n",
       "      <td>NaN</td>\n",
       "      <td>0.000000</td>\n",
       "      <td>0.000000</td>\n",
       "      <td>0.000000</td>\n",
       "      <td>0.000000</td>\n",
       "      <td>0.000000</td>\n",
       "      <td>0.000000</td>\n",
       "    </tr>\n",
       "    <tr>\n",
       "      <th>25%</th>\n",
       "      <td>2.420000</td>\n",
       "      <td>4.700000</td>\n",
       "      <td>4.500000</td>\n",
       "      <td>1.000000</td>\n",
       "      <td>NaN</td>\n",
       "      <td>NaN</td>\n",
       "      <td>NaN</td>\n",
       "      <td>NaN</td>\n",
       "      <td>0.000000</td>\n",
       "      <td>0.000000</td>\n",
       "      <td>NaN</td>\n",
       "      <td>33.300000</td>\n",
       "      <td>0.000000</td>\n",
       "      <td>0.000000</td>\n",
       "      <td>0.000000</td>\n",
       "      <td>0.000000</td>\n",
       "      <td>0.000000</td>\n",
       "    </tr>\n",
       "    <tr>\n",
       "      <th>50%</th>\n",
       "      <td>3.890000</td>\n",
       "      <td>5.000000</td>\n",
       "      <td>4.700000</td>\n",
       "      <td>1.000000</td>\n",
       "      <td>NaN</td>\n",
       "      <td>NaN</td>\n",
       "      <td>NaN</td>\n",
       "      <td>NaN</td>\n",
       "      <td>0.000000</td>\n",
       "      <td>1.000000</td>\n",
       "      <td>NaN</td>\n",
       "      <td>66.700000</td>\n",
       "      <td>0.000000</td>\n",
       "      <td>0.000000</td>\n",
       "      <td>0.000000</td>\n",
       "      <td>1.000000</td>\n",
       "      <td>0.000000</td>\n",
       "    </tr>\n",
       "    <tr>\n",
       "      <th>75%</th>\n",
       "      <td>6.940000</td>\n",
       "      <td>5.000000</td>\n",
       "      <td>5.000000</td>\n",
       "      <td>1.050000</td>\n",
       "      <td>NaN</td>\n",
       "      <td>NaN</td>\n",
       "      <td>NaN</td>\n",
       "      <td>NaN</td>\n",
       "      <td>8.700000</td>\n",
       "      <td>3.000000</td>\n",
       "      <td>NaN</td>\n",
       "      <td>100.000000</td>\n",
       "      <td>1.000000</td>\n",
       "      <td>1.000000</td>\n",
       "      <td>0.000000</td>\n",
       "      <td>1.000000</td>\n",
       "      <td>1.000000</td>\n",
       "    </tr>\n",
       "    <tr>\n",
       "      <th>max</th>\n",
       "      <td>129.890000</td>\n",
       "      <td>5.000000</td>\n",
       "      <td>5.000000</td>\n",
       "      <td>8.000000</td>\n",
       "      <td>NaN</td>\n",
       "      <td>NaN</td>\n",
       "      <td>NaN</td>\n",
       "      <td>NaN</td>\n",
       "      <td>100.000000</td>\n",
       "      <td>125.000000</td>\n",
       "      <td>NaN</td>\n",
       "      <td>100.000000</td>\n",
       "      <td>1.000000</td>\n",
       "      <td>1.000000</td>\n",
       "      <td>1.000000</td>\n",
       "      <td>1.000000</td>\n",
       "      <td>1.000000</td>\n",
       "    </tr>\n",
       "  </tbody>\n",
       "</table>\n",
       "</div>"
      ],
      "text/plain": [
       "            avg_dist  avg_rating_by_driver  avg_rating_of_driver  \\\n",
       "count   49799.000000          49799.000000          49799.000000   \n",
       "unique           NaN                   NaN                   NaN   \n",
       "top              NaN                   NaN                   NaN   \n",
       "freq             NaN                   NaN                   NaN   \n",
       "first            NaN                   NaN                   NaN   \n",
       "last             NaN                   NaN                   NaN   \n",
       "mean        5.795332              4.778158              4.601762   \n",
       "std         5.665794              0.446652              0.564056   \n",
       "min         0.000000              1.000000              1.000000   \n",
       "25%         2.420000              4.700000              4.500000   \n",
       "50%         3.890000              5.000000              4.700000   \n",
       "75%         6.940000              5.000000              5.000000   \n",
       "max       129.890000              5.000000              5.000000   \n",
       "\n",
       "           avg_surge        city       last_trip_date   phone  \\\n",
       "count   49799.000000       49799                49799   49406   \n",
       "unique           NaN           3                  182       2   \n",
       "top              NaN  Winterfell  2014-06-29 00:00:00  iPhone   \n",
       "freq             NaN       23233                 2033   34446   \n",
       "first            NaN         NaN  2014-01-01 00:00:00     NaN   \n",
       "last             NaN         NaN  2014-07-01 00:00:00     NaN   \n",
       "mean        1.074396         NaN                  NaN     NaN   \n",
       "std         0.220694         NaN                  NaN     NaN   \n",
       "min         1.000000         NaN                  NaN     NaN   \n",
       "25%         1.000000         NaN                  NaN     NaN   \n",
       "50%         1.000000         NaN                  NaN     NaN   \n",
       "75%         1.050000         NaN                  NaN     NaN   \n",
       "max         8.000000         NaN                  NaN     NaN   \n",
       "\n",
       "                signup_date     surge_pct  trips_in_first_30_days  \\\n",
       "count                 49799  49799.000000            49799.000000   \n",
       "unique                   31           NaN                     NaN   \n",
       "top     2014-01-18 00:00:00           NaN                     NaN   \n",
       "freq                   2936           NaN                     NaN   \n",
       "first   2014-01-01 00:00:00           NaN                     NaN   \n",
       "last    2014-01-31 00:00:00           NaN                     NaN   \n",
       "mean                    NaN      8.821665                2.285166   \n",
       "std                     NaN     19.860920                3.798589   \n",
       "min                     NaN      0.000000                0.000000   \n",
       "25%                     NaN      0.000000                0.000000   \n",
       "50%                     NaN      0.000000                1.000000   \n",
       "75%                     NaN      8.700000                3.000000   \n",
       "max                     NaN    100.000000              125.000000   \n",
       "\n",
       "       ultimate_black_user   weekday_pct    active_six    is_Astapor  \\\n",
       "count                49799  49799.000000  49799.000000  49799.000000   \n",
       "unique                   2           NaN           NaN           NaN   \n",
       "top                  False           NaN           NaN           NaN   \n",
       "freq                 30979           NaN           NaN           NaN   \n",
       "first                  NaN           NaN           NaN           NaN   \n",
       "last                   NaN           NaN           NaN           NaN   \n",
       "mean                   NaN     60.957132      0.376875      0.330850   \n",
       "std                    NaN     37.017558      0.484571      0.470517   \n",
       "min                    NaN      0.000000      0.000000      0.000000   \n",
       "25%                    NaN     33.300000      0.000000      0.000000   \n",
       "50%                    NaN     66.700000      0.000000      0.000000   \n",
       "75%                    NaN    100.000000      1.000000      1.000000   \n",
       "max                    NaN    100.000000      1.000000      1.000000   \n",
       "\n",
       "            is_Kings     is_iPhone  ultimate_black_user_binary  \n",
       "count   49799.000000  49799.000000                49799.000000  \n",
       "unique           NaN           NaN                         NaN  \n",
       "top              NaN           NaN                         NaN  \n",
       "freq             NaN           NaN                         NaN  \n",
       "first            NaN           NaN                         NaN  \n",
       "last             NaN           NaN                         NaN  \n",
       "mean        0.202615      0.691701                    0.377919  \n",
       "std         0.401907      0.461797                    0.484876  \n",
       "min         0.000000      0.000000                    0.000000  \n",
       "25%         0.000000      0.000000                    0.000000  \n",
       "50%         0.000000      1.000000                    0.000000  \n",
       "75%         0.000000      1.000000                    1.000000  \n",
       "max         1.000000      1.000000                    1.000000  "
      ]
     },
     "execution_count": 35,
     "metadata": {},
     "output_type": "execute_result"
    }
   ],
   "source": [
    "df_mask.describe(include='all')"
   ]
  },
  {
   "cell_type": "code",
   "execution_count": 13,
   "metadata": {
    "collapsed": false
   },
   "outputs": [
    {
     "data": {
      "text/plain": [
       "<matplotlib.axes._subplots.AxesSubplot at 0x2570d4cf5f8>"
      ]
     },
     "execution_count": 13,
     "metadata": {},
     "output_type": "execute_result"
    },
    {
     "data": {
      "image/png": "[encoded data removed]",
      "text/plain": [
       "<matplotlib.figure.Figure at 0x2570d4cf278>"
      ]
     },
     "metadata": {},
     "output_type": "display_data"
    }
   ],
   "source": [
    "df_mask.last_trip_date.dt.month.value_counts().sort_values().plot(kind='bar')"
   ]
  },
  {
   "cell_type": "code",
   "execution_count": 14,
   "metadata": {
    "collapsed": false
   },
   "outputs": [
    {
     "data": {
      "text/plain": [
       "<matplotlib.axes._subplots.AxesSubplot at 0x2570d495518>"
      ]
     },
     "execution_count": 14,
     "metadata": {},
     "output_type": "execute_result"
    },
    {
     "data": {
      "image/png": "[encoded data removed]",
      "text/plain": [
       "<matplotlib.figure.Figure at 0x2570d43e518>"
      ]
     },
     "metadata": {},
     "output_type": "display_data"
    }
   ],
   "source": [
    "df_mask.city.value_counts().plot(kind='bar')"
   ]
  },
  {
   "cell_type": "code",
   "execution_count": 15,
   "metadata": {
    "collapsed": true
   },
   "outputs": [],
   "source": [
    "df['active_six'] = np.where(df.last_trip_date.dt.month >= 6, 1, 0)"
   ]
  },
  {
   "cell_type": "code",
   "execution_count": 16,
   "metadata": {
    "collapsed": false
   },
   "outputs": [
    {
     "data": {
      "text/plain": [
       "<matplotlib.axes._subplots.AxesSubplot at 0x2570db76a20>"
      ]
     },
     "execution_count": 16,
     "metadata": {},
     "output_type": "execute_result"
    },
    {
     "data": {
      "image/png": "[encoded data removed]",
      "text/plain": [
       "<matplotlib.figure.Figure at 0x2570db814a8>"
      ]
     },
     "metadata": {},
     "output_type": "display_data"
    }
   ],
   "source": [
    "df.active_six.value_counts().plot(kind='bar')"
   ]
  },
  {
   "cell_type": "code",
   "execution_count": 56,
   "metadata": {
    "collapsed": false
   },
   "outputs": [],
   "source": [
    "from sklearn.model_selection import GridSearchCV, train_test_split, StratifiedKFold\n",
    "from sklearn.linear_model import LogisticRegression\n",
    "from sklearn.metrics import accuracy_score, classification_report, confusion_matrix"
   ]
  },
  {
   "cell_type": "code",
   "execution_count": 38,
   "metadata": {
    "collapsed": true
   },
   "outputs": [],
   "source": [
    "x_train, x_test, y_train, y_test = train_test_split(df_mask[['avg_dist', 'avg_rating_by_driver', 'avg_rating_of_driver', \\\n",
    "                                                        'avg_surge', 'surge_pct', 'trips_in_first_30_days', \\\n",
    "                                                        'weekday_pct', 'is_Astapor', 'is_Kings', 'is_iPhone', \\\n",
    "                                                        'ultimate_black_user_binary']].values, \n",
    "                                                    df_mask.active_six.values, test_size=0.3)"
   ]
  },
  {
   "cell_type": "code",
   "execution_count": 68,
   "metadata": {
    "collapsed": true
   },
   "outputs": [],
   "source": [
    "model = LogisticRegression(max_iter=500, solver='sag', n_jobs=4)"
   ]
  },
  {
   "cell_type": "code",
   "execution_count": 69,
   "metadata": {
    "collapsed": false
   },
   "outputs": [
    {
     "data": {
      "text/plain": [
       "LogisticRegression(C=1.0, class_weight=None, dual=False, fit_intercept=True,\n",
       "          intercept_scaling=1, max_iter=500, multi_class='ovr', n_jobs=4,\n",
       "          penalty='l2', random_state=None, solver='sag', tol=0.0001,\n",
       "          verbose=0, warm_start=False)"
      ]
     },
     "execution_count": 69,
     "metadata": {},
     "output_type": "execute_result"
    }
   ],
   "source": [
    "model.fit(x_train, y_train)"
   ]
  },
  {
   "cell_type": "code",
   "execution_count": 70,
   "metadata": {
    "collapsed": false
   },
   "outputs": [
    {
     "data": {
      "text/plain": [
       "array([[ -3.70567081e-02,  -1.66684814e-01,  -6.28663682e-02,\n",
       "         -2.30387937e-01,   4.35712531e-03,   1.21050488e-01,\n",
       "         -1.27142849e-04,  -4.90806836e-01,   1.20528425e+00,\n",
       "          1.06513393e+00,   8.65429001e-01]])"
      ]
     },
     "execution_count": 70,
     "metadata": {},
     "output_type": "execute_result"
    }
   ],
   "source": [
    "model.coef_"
   ]
  },
  {
   "cell_type": "code",
   "execution_count": 71,
   "metadata": {
    "collapsed": true
   },
   "outputs": [],
   "source": [
    "preds = model.predict(x_train)"
   ]
  },
  {
   "cell_type": "code",
   "execution_count": 72,
   "metadata": {
    "collapsed": false
   },
   "outputs": [
    {
     "name": "stdout",
     "output_type": "stream",
     "text": [
      "0.718695315414\n"
     ]
    }
   ],
   "source": [
    "print(accuracy_score(preds, y_train))"
   ]
  },
  {
   "cell_type": "code",
   "execution_count": 54,
   "metadata": {
    "collapsed": false
   },
   "outputs": [
    {
     "data": {
      "text/plain": [
       "array([[18532,  3173],\n",
       "       [ 6635,  6519]])"
      ]
     },
     "execution_count": 54,
     "metadata": {},
     "output_type": "execute_result"
    }
   ],
   "source": [
    "confusion_matrix(y_true=y_train, y_pred=preds)"
   ]
  },
  {
   "cell_type": "code",
   "execution_count": 55,
   "metadata": {
    "collapsed": false
   },
   "outputs": [
    {
     "name": "stdout",
     "output_type": "stream",
     "text": [
      "             precision    recall  f1-score   support\n",
      "\n",
      "          0       0.74      0.85      0.79     21705\n",
      "          1       0.67      0.50      0.57     13154\n",
      "\n",
      "avg / total       0.71      0.72      0.71     34859\n",
      "\n"
     ]
    }
   ],
   "source": [
    "# precision - true positives / (true positives + false positives)\n",
    "# recall - true positives / (true positives + false negatives)\n",
    "print(classification_report(y_true=y_train, y_pred=preds))"
   ]
  },
  {
   "cell_type": "code",
   "execution_count": 73,
   "metadata": {
    "collapsed": false
   },
   "outputs": [
    {
     "data": {
      "text/plain": [
       "GridSearchCV(cv=StratifiedKFold(n_splits=5, random_state=None, shuffle=False),\n",
       "       error_score='raise',\n",
       "       estimator=LogisticRegression(C=1.0, class_weight=None, dual=False, fit_intercept=True,\n",
       "          intercept_scaling=1, max_iter=500, multi_class='ovr', n_jobs=2,\n",
       "          penalty='l2', random_state=None, solver='sag', tol=0.0001,\n",
       "          verbose=0, warm_start=False),\n",
       "       fit_params={}, iid=True, n_jobs=4,\n",
       "       param_grid={'C': [0.0001, 0.001, 0.01, 0.1, 1, 10, 100]},\n",
       "       pre_dispatch='2*n_jobs', refit=True, return_train_score=True,\n",
       "       scoring='accuracy', verbose=0)"
      ]
     },
     "execution_count": 73,
     "metadata": {},
     "output_type": "execute_result"
    }
   ],
   "source": [
    "model2 = LogisticRegression(max_iter=500, solver='sag', n_jobs=2)\n",
    "model2 = GridSearchCV(model2, param_grid={'C': [0.0001, 0.001, 0.01, 0.1, 1, 10, 100]}, scoring='accuracy', n_jobs=4, \n",
    "                     cv=StratifiedKFold(n_splits=5))\n",
    "model2.fit(x_train, y_train)"
   ]
  },
  {
   "cell_type": "code",
   "execution_count": 74,
   "metadata": {
    "collapsed": false
   },
   "outputs": [
    {
     "data": {
      "text/plain": [
       "{'mean_fit_time': array([ 1.25273719,  2.47491012,  2.87545996,  2.79878221,  2.41482706,\n",
       "         2.37623267,  2.27446432]),\n",
       " 'mean_score_time': array([ 0.00219831,  0.00090222,  0.0008945 ,  0.00090203,  0.00090208,\n",
       "         0.00090203,  0.00069466]),\n",
       " 'mean_test_score': array([ 0.66350153,  0.70810981,  0.7189535 ,  0.71875269,  0.718724  ,\n",
       "         0.71866663,  0.71863794]),\n",
       " 'mean_train_score': array([ 0.66359476,  0.70836798,  0.7190539 ,  0.71883158,  0.71870249,\n",
       "         0.7186738 ,  0.71865946]),\n",
       " 'param_C': masked_array(data = [0.0001 0.001 0.01 0.1 1 10 100],\n",
       "              mask = [False False False False False False False],\n",
       "        fill_value = ?),\n",
       " 'params': ({'C': 0.0001},\n",
       "  {'C': 0.001},\n",
       "  {'C': 0.01},\n",
       "  {'C': 0.1},\n",
       "  {'C': 1},\n",
       "  {'C': 10},\n",
       "  {'C': 100}),\n",
       " 'rank_test_score': array([7, 6, 1, 2, 3, 4, 5]),\n",
       " 'split0_test_score': array([ 0.66752725,  0.71414228,  0.7207401 ,  0.72088353,  0.72016638,\n",
       "         0.72016638,  0.72016638]),\n",
       " 'split0_train_score': array([ 0.66260265,  0.70696023,  0.71857855,  0.71890128,  0.71890128,\n",
       "         0.71886542,  0.71882956]),\n",
       " 'split1_test_score': array([ 0.6645152 ,  0.71500287,  0.7211704 ,  0.7211704 ,  0.72160069,\n",
       "         0.72160069,  0.72160069]),\n",
       " 'split1_train_score': array([ 0.66288952,  0.7066375 ,  0.71872199,  0.71872199,  0.71821996,\n",
       "         0.7181841 ,  0.71814824]),\n",
       " 'split2_test_score': array([ 0.66049914,  0.70195066,  0.71672404,  0.71672404,  0.71672404,\n",
       "         0.71658061,  0.71658061]),\n",
       " 'split2_train_score': array([ 0.66493348,  0.7096138 ,  0.7195826 ,  0.72001291,  0.72001291,\n",
       "         0.71994119,  0.71994119]),\n",
       " 'split3_test_score': array([ 0.66480207,  0.70783133,  0.7207401 ,  0.7207401 ,  0.72059667,\n",
       "         0.72045324,  0.72030981]),\n",
       " 'split3_train_score': array([ 0.66339154,  0.70817944,  0.71857855,  0.71800481,  0.71789723,\n",
       "         0.71789723,  0.71789723]),\n",
       " 'split4_test_score': array([ 0.66016353,  0.701621  ,  0.71539234,  0.71424473,  0.71453163,\n",
       "         0.71453163,  0.71453163]),\n",
       " 'split4_train_score': array([ 0.66415663,  0.71044894,  0.7198078 ,  0.71851692,  0.71848107,\n",
       "         0.71848107,  0.71848107]),\n",
       " 'std_fit_time': array([ 0.04879577,  0.04916916,  0.20642457,  1.26778659,  1.40216695,\n",
       "         1.3892417 ,  1.2623538 ]),\n",
       " 'std_score_time': array([ 0.00059819,  0.0002003 ,  0.00019762,  0.00020032,  0.00037573,\n",
       "         0.0002002 ,  0.00023716]),\n",
       " 'std_test_score': array([ 0.00279576,  0.00572749,  0.00240624,  0.00278463,  0.00266222,\n",
       "         0.00266451,  0.00264583]),\n",
       " 'std_train_score': array([ 0.00085215,  0.0014761 ,  0.00053103,  0.00066257,  0.00073308,\n",
       "         0.00071035,  0.00071357])}"
      ]
     },
     "execution_count": 74,
     "metadata": {},
     "output_type": "execute_result"
    }
   ],
   "source": [
    "model2.cv_results_"
   ]
  },
  {
   "cell_type": "code",
   "execution_count": 75,
   "metadata": {
    "collapsed": true
   },
   "outputs": [],
   "source": [
    "model3 = LogisticRegression(C=model2.best_params_['C'], max_iter=500, solver='sag', n_jobs=2)\n",
    "model3.fit(x_train, y_train)\n",
    "pred3 = model3.predict(x_test)"
   ]
  },
  {
   "cell_type": "code",
   "execution_count": 76,
   "metadata": {
    "collapsed": false
   },
   "outputs": [
    {
     "data": {
      "text/plain": [
       "0.71626506024096381"
      ]
     },
     "execution_count": 76,
     "metadata": {},
     "output_type": "execute_result"
    }
   ],
   "source": [
    "accuracy_score(pred3, y_test)"
   ]
  },
  {
   "cell_type": "markdown",
   "metadata": {},
   "source": [
    "true negatives  | false positives\n",
    "-----------------------------------\n",
    "false negatives | true positives"
   ]
  },
  {
   "cell_type": "code",
   "execution_count": 77,
   "metadata": {
    "collapsed": false
   },
   "outputs": [
    {
     "data": {
      "text/plain": [
       "array([[8048, 1278],\n",
       "       [2961, 2653]])"
      ]
     },
     "execution_count": 77,
     "metadata": {},
     "output_type": "execute_result"
    }
   ],
   "source": [
    "confusion_matrix(y_true=y_test, y_pred=pred3)"
   ]
  },
  {
   "cell_type": "code",
   "execution_count": 79,
   "metadata": {
    "collapsed": false
   },
   "outputs": [
    {
     "name": "stdout",
     "output_type": "stream",
     "text": [
      "             precision    recall  f1-score   support\n",
      "\n",
      "          0       0.73      0.86      0.79      9326\n",
      "          1       0.67      0.47      0.56      5614\n",
      "\n",
      "avg / total       0.71      0.72      0.70     14940\n",
      "\n"
     ]
    }
   ],
   "source": [
    "print(classification_report(y_true=y_test, y_pred=pred3))"
   ]
  },
  {
   "cell_type": "code",
   "execution_count": 80,
   "metadata": {
    "collapsed": false
   },
   "outputs": [
    {
     "data": {
      "text/plain": [
       "array([[ -3.61476335e-02,  -1.50173892e-01,  -5.76060479e-02,\n",
       "         -1.33650268e-01,   3.41909093e-03,   1.20351668e-01,\n",
       "         -1.07018288e-04,  -4.77820198e-01,   1.10411082e+00,\n",
       "          9.78431737e-01,   8.06840806e-01]])"
      ]
     },
     "execution_count": 80,
     "metadata": {},
     "output_type": "execute_result"
    }
   ],
   "source": [
    "model3.coef_"
   ]
  },
  {
   "cell_type": "code",
   "execution_count": 89,
   "metadata": {
    "collapsed": true
   },
   "outputs": [],
   "source": [
    "var = ['avg_dist', 'avg_rating_by_driver', 'avg_rating_of_driver', 'avg_surge', 'surge_pct', 'trips_in_first_30_days', \\\n",
    "       'weekday_pct', 'is_Astapor', 'is_Kings', 'is_iPhone', 'ultimate_black_user_binary']"
   ]
  },
  {
   "cell_type": "code",
   "execution_count": 103,
   "metadata": {
    "collapsed": false
   },
   "outputs": [],
   "source": [
    "coef = model3.coef_.tolist()"
   ]
  },
  {
   "cell_type": "code",
   "execution_count": 104,
   "metadata": {
    "collapsed": false
   },
   "outputs": [],
   "source": [
    "test = list(zip(var, coef))"
   ]
  },
  {
   "cell_type": "code",
   "execution_count": 105,
   "metadata": {
    "collapsed": false
   },
   "outputs": [
    {
     "data": {
      "text/plain": [
       "[('avg_dist',\n",
       "  [-0.03614763353295295,\n",
       "   -0.15017389239793424,\n",
       "   -0.05760604790291681,\n",
       "   -0.13365026764759405,\n",
       "   0.0034190909293344983,\n",
       "   0.12035166844918532,\n",
       "   -0.00010701828809008987,\n",
       "   -0.4778201982722894,\n",
       "   1.1041108190933384,\n",
       "   0.9784317365018058,\n",
       "   0.8068408060085014])]"
      ]
     },
     "execution_count": 105,
     "metadata": {},
     "output_type": "execute_result"
    }
   ],
   "source": [
    "test"
   ]
  },
  {
   "cell_type": "code",
   "execution_count": 106,
   "metadata": {
    "collapsed": false
   },
   "outputs": [
    {
     "ename": "AttributeError",
     "evalue": "'LogisticRegression' object has no attribute 'feature_importances_'",
     "output_type": "error",
     "traceback": [
      "\u001b[0;31m---------------------------------------------------------------------------\u001b[0m",
      "\u001b[0;31mAttributeError\u001b[0m                            Traceback (most recent call last)",
      "\u001b[0;32m<ipython-input-106-dd951c059958>\u001b[0m in \u001b[0;36m<module>\u001b[0;34m()\u001b[0m\n\u001b[0;32m----> 1\u001b[0;31m \u001b[0mmodel3\u001b[0m\u001b[1;33m.\u001b[0m\u001b[0mfeature_importances_\u001b[0m\u001b[1;33m\u001b[0m\u001b[0m\n\u001b[0m",
      "\u001b[0;31mAttributeError\u001b[0m: 'LogisticRegression' object has no attribute 'feature_importances_'"
     ]
    }
   ],
   "source": [
    "model3.feature_importances_"
   ]
  },
  {
   "cell_type": "code",
   "execution_count": 108,
   "metadata": {
    "collapsed": true
   },
   "outputs": [],
   "source": [
    "import statsmodels.api as sm"
   ]
  },
  {
   "cell_type": "code",
   "execution_count": 110,
   "metadata": {
    "collapsed": false
   },
   "outputs": [
    {
     "name": "stdout",
     "output_type": "stream",
     "text": [
      "Optimization terminated successfully.\n",
      "         Current function value: 0.558196\n",
      "         Iterations 6\n"
     ]
    }
   ],
   "source": [
    "sm_model = sm.Logit(y_train, x_train).fit()"
   ]
  },
  {
   "cell_type": "code",
   "execution_count": 112,
   "metadata": {
    "collapsed": false
   },
   "outputs": [
    {
     "name": "stdout",
     "output_type": "stream",
     "text": [
      "                           Logit Regression Results                           \n",
      "==============================================================================\n",
      "Dep. Variable:                      y   No. Observations:                34859\n",
      "Model:                          Logit   Df Residuals:                    34848\n",
      "Method:                           MLE   Df Model:                           10\n",
      "Date:                Tue, 07 Mar 2017   Pseudo R-squ.:                  0.1578\n",
      "Time:                        14:17:58   Log-Likelihood:                -19458.\n",
      "converged:                       True   LL-Null:                       -23103.\n",
      "                                        LLR p-value:                     0.000\n",
      "==============================================================================\n",
      "                 coef    std err          z      P>|z|      [95.0% Conf. Int.]\n",
      "------------------------------------------------------------------------------\n",
      "x1            -0.0371      0.002    -14.895      0.000        -0.042    -0.032\n",
      "x2            -0.2123      0.021    -10.068      0.000        -0.254    -0.171\n",
      "x3            -0.0916      0.019     -4.784      0.000        -0.129    -0.054\n",
      "x4            -0.3651      0.083     -4.378      0.000        -0.529    -0.202\n",
      "x5             0.0055      0.001      5.654      0.000         0.004     0.007\n",
      "x6             0.1203      0.004     29.217      0.000         0.112     0.128\n",
      "x7            -0.0002      0.000     -0.595      0.552        -0.001     0.000\n",
      "x8            -0.4914      0.029    -16.864      0.000        -0.548    -0.434\n",
      "x9             1.2102      0.032     37.360      0.000         1.147     1.274\n",
      "x10            1.0573      0.029     36.605      0.000         1.001     1.114\n",
      "x11            0.8643      0.026     33.894      0.000         0.814     0.914\n",
      "==============================================================================\n"
     ]
    }
   ],
   "source": [
    "print(sm_model.summary())"
   ]
  },
  {
   "cell_type": "code",
   "execution_count": 122,
   "metadata": {
    "collapsed": false
   },
   "outputs": [
    {
     "name": "stdout",
     "output_type": "stream",
     "text": [
      "[  4.59   5.     4.     1.05   9.1    2.    36.4    0.     0.     1.     1.  ]\n"
     ]
    }
   ],
   "source": [
    "print(x_train[1])"
   ]
  },
  {
   "cell_type": "code",
   "execution_count": 120,
   "metadata": {
    "collapsed": false
   },
   "outputs": [],
   "source": [
    "x_train_2 = np.delete(x_train, 6, 1)"
   ]
  },
  {
   "cell_type": "code",
   "execution_count": 123,
   "metadata": {
    "collapsed": false
   },
   "outputs": [
    {
     "name": "stdout",
     "output_type": "stream",
     "text": [
      "[ 4.59  5.    4.    1.05  9.1   2.    0.    0.    1.    1.  ]\n"
     ]
    }
   ],
   "source": [
    "print(x_train_2[1])"
   ]
  },
  {
   "cell_type": "code",
   "execution_count": 125,
   "metadata": {
    "collapsed": false
   },
   "outputs": [
    {
     "name": "stdout",
     "output_type": "stream",
     "text": [
      "Optimization terminated successfully.\n",
      "         Current function value: 0.558201\n",
      "         Iterations 6\n",
      "                           Logit Regression Results                           \n",
      "==============================================================================\n",
      "Dep. Variable:                      y   No. Observations:                34859\n",
      "Model:                          Logit   Df Residuals:                    34849\n",
      "Method:                           MLE   Df Model:                            9\n",
      "Date:                Tue, 07 Mar 2017   Pseudo R-squ.:                  0.1578\n",
      "Time:                        14:26:25   Log-Likelihood:                -19458.\n",
      "converged:                       True   LL-Null:                       -23103.\n",
      "                                        LLR p-value:                     0.000\n",
      "==============================================================================\n",
      "                 coef    std err          z      P>|z|      [95.0% Conf. Int.]\n",
      "------------------------------------------------------------------------------\n",
      "x1            -0.0373      0.002    -15.029      0.000        -0.042    -0.032\n",
      "x2            -0.2134      0.021    -10.150      0.000        -0.255    -0.172\n",
      "x3            -0.0923      0.019     -4.824      0.000        -0.130    -0.055\n",
      "x4            -0.3687      0.083     -4.431      0.000        -0.532    -0.206\n",
      "x5             0.0055      0.001      5.793      0.000         0.004     0.007\n",
      "x6             0.1201      0.004     29.244      0.000         0.112     0.128\n",
      "x7            -0.4917      0.029    -16.876      0.000        -0.549    -0.435\n",
      "x8             1.2096      0.032     37.361      0.000         1.146     1.273\n",
      "x9             1.0572      0.029     36.602      0.000         1.001     1.114\n",
      "x10            0.8642      0.025     33.891      0.000         0.814     0.914\n",
      "==============================================================================\n"
     ]
    }
   ],
   "source": [
    "sm_model_2 = sm.Logit(y_train, x_train_2).fit()\n",
    "print(sm_model_2.summary())"
   ]
  },
  {
   "cell_type": "code",
   "execution_count": 127,
   "metadata": {
    "collapsed": false
   },
   "outputs": [
    {
     "name": "stdout",
     "output_type": "stream",
     "text": [
      "[ 0.96339505  0.80786074  0.91185605  0.69159917  1.00555845  1.12760448\n",
      "  0.61161169  3.35214522  2.87828356  2.3731535 ]\n"
     ]
    }
   ],
   "source": [
    "print(np.exp(sm_model_2.params))"
   ]
  },
  {
   "cell_type": "code",
   "execution_count": 129,
   "metadata": {
    "collapsed": false
   },
   "outputs": [],
   "source": [
    "var_2 = np.delete(var, 6, 0)"
   ]
  },
  {
   "cell_type": "code",
   "execution_count": 133,
   "metadata": {
    "collapsed": false
   },
   "outputs": [
    {
     "data": {
      "text/plain": [
       "[('avg_dist', 0.96339505101527545),\n",
       " ('avg_rating_by_driver', 0.80786074494527627),\n",
       " ('avg_rating_of_driver', 0.9118560452462382),\n",
       " ('avg_surge', 0.69159917138320803),\n",
       " ('surge_pct', 1.005558454386658),\n",
       " ('trips_in_first_30_days', 1.1276044784289312),\n",
       " ('is_Astapor', 0.61161169142724092),\n",
       " ('is_Kings', 3.352145216447961),\n",
       " ('is_iPhone', 2.8782835582567454),\n",
       " ('ultimate_black_user_binary', 2.3731535045323651)]"
      ]
     },
     "execution_count": 133,
     "metadata": {},
     "output_type": "execute_result"
    }
   ],
   "source": [
    "list(zip(var_2, np.exp(sm_model_2.params)))"
   ]
  },
  {
   "cell_type": "code",
   "execution_count": null,
   "metadata": {
    "collapsed": true
   },
   "outputs": [],
   "source": []
  }
 ],
 "metadata": {
  "anaconda-cloud": {},
  "kernelspec": {
   "display_name": "Python [conda root]",
   "language": "python",
   "name": "conda-root-py"
  },
  "language_info": {
   "codemirror_mode": {
    "name": "ipython",
    "version": 3
   },
   "file_extension": ".py",
   "mimetype": "text/x-python",
   "name": "python",
   "nbconvert_exporter": "python",
   "pygments_lexer": "ipython3",
   "version": "3.5.2"
  }
 },
 "nbformat": 4,
 "nbformat_minor": 2
}
